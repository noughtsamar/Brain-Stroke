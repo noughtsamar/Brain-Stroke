{
 "cells": [
  {
   "cell_type": "code",
   "execution_count": 1,
   "id": "51a57351",
   "metadata": {
    "_cell_guid": "b1076dfc-b9ad-4769-8c92-a6c4dae69d19",
    "_uuid": "8f2839f25d086af736a60e9eeb907d3b93b6e0e5",
    "execution": {
     "iopub.execute_input": "2022-08-15T13:10:08.163781Z",
     "iopub.status.busy": "2022-08-15T13:10:08.163208Z",
     "iopub.status.idle": "2022-08-15T13:10:08.224369Z",
     "shell.execute_reply": "2022-08-15T13:10:08.222977Z"
    },
    "papermill": {
     "duration": 0.073295,
     "end_time": "2022-08-15T13:10:08.228758",
     "exception": false,
     "start_time": "2022-08-15T13:10:08.155463",
     "status": "completed"
    },
    "tags": []
   },
   "outputs": [
    {
     "name": "stdout",
     "output_type": "stream",
     "text": [
      "/kaggle/input/full-filled-brain-stroke-dataset/full_data.csv\n",
      "/kaggle/input/full-filled-brain-stroke-dataset/full_filled_stroke_data (1).csv\n"
     ]
    }
   ],
   "source": [
    "# This Python 3 environment comes with many helpful analytics libraries installed\n",
    "# It is defined by the kaggle/python Docker image: https://github.com/kaggle/docker-python\n",
    "# For example, here's several helpful packages to load\n",
    "\n",
    "import numpy as np # linear algebra\n",
    "import pandas as pd # data processing, CSV file I/O (e.g. pd.read_csv)\n",
    "\n",
    "# Input data files are available in the read-only \"../input/\" directory\n",
    "# For example, running this (by clicking run or pressing Shift+Enter) will list all files under the input directory\n",
    "\n",
    "import os\n",
    "for dirname, _, filenames in os.walk('/kaggle/input'):\n",
    "    for filename in filenames:\n",
    "        print(os.path.join(dirname, filename))\n",
    "\n",
    "# You can write up to 20GB to the current directory (/kaggle/working/) that gets preserved as output when you create a version using \"Save & Run All\" \n",
    "# You can also write temporary files to /kaggle/temp/, but they won't be saved outside of the current session\n",
    "\n",
    "df = pd.read_csv(\"/kaggle/input/full-filled-brain-stroke-dataset/full_data.csv\")\n",
    "df_eval = pd.read_csv(\"/kaggle/input/full-filled-brain-stroke-dataset/full_filled_stroke_data (1).csv\")"
   ]
  },
  {
   "cell_type": "code",
   "execution_count": 2,
   "id": "a1ae3a11",
   "metadata": {
    "execution": {
     "iopub.execute_input": "2022-08-15T13:10:08.240054Z",
     "iopub.status.busy": "2022-08-15T13:10:08.239153Z",
     "iopub.status.idle": "2022-08-15T13:10:08.270628Z",
     "shell.execute_reply": "2022-08-15T13:10:08.269250Z"
    },
    "papermill": {
     "duration": 0.040133,
     "end_time": "2022-08-15T13:10:08.273607",
     "exception": false,
     "start_time": "2022-08-15T13:10:08.233474",
     "status": "completed"
    },
    "tags": []
   },
   "outputs": [
    {
     "data": {
      "text/html": [
       "<div>\n",
       "<style scoped>\n",
       "    .dataframe tbody tr th:only-of-type {\n",
       "        vertical-align: middle;\n",
       "    }\n",
       "\n",
       "    .dataframe tbody tr th {\n",
       "        vertical-align: top;\n",
       "    }\n",
       "\n",
       "    .dataframe thead th {\n",
       "        text-align: right;\n",
       "    }\n",
       "</style>\n",
       "<table border=\"1\" class=\"dataframe\">\n",
       "  <thead>\n",
       "    <tr style=\"text-align: right;\">\n",
       "      <th></th>\n",
       "      <th>gender</th>\n",
       "      <th>age</th>\n",
       "      <th>hypertension</th>\n",
       "      <th>heart_disease</th>\n",
       "      <th>ever_married</th>\n",
       "      <th>work_type</th>\n",
       "      <th>Residence_type</th>\n",
       "      <th>avg_glucose_level</th>\n",
       "      <th>bmi</th>\n",
       "      <th>smoking_status</th>\n",
       "      <th>stroke</th>\n",
       "    </tr>\n",
       "  </thead>\n",
       "  <tbody>\n",
       "    <tr>\n",
       "      <th>0</th>\n",
       "      <td>Male</td>\n",
       "      <td>67.0</td>\n",
       "      <td>0</td>\n",
       "      <td>1</td>\n",
       "      <td>Yes</td>\n",
       "      <td>Private</td>\n",
       "      <td>Urban</td>\n",
       "      <td>228.69</td>\n",
       "      <td>36.6</td>\n",
       "      <td>formerly smoked</td>\n",
       "      <td>1</td>\n",
       "    </tr>\n",
       "    <tr>\n",
       "      <th>1</th>\n",
       "      <td>Male</td>\n",
       "      <td>80.0</td>\n",
       "      <td>0</td>\n",
       "      <td>1</td>\n",
       "      <td>Yes</td>\n",
       "      <td>Private</td>\n",
       "      <td>Rural</td>\n",
       "      <td>105.92</td>\n",
       "      <td>32.5</td>\n",
       "      <td>never smoked</td>\n",
       "      <td>1</td>\n",
       "    </tr>\n",
       "    <tr>\n",
       "      <th>2</th>\n",
       "      <td>Female</td>\n",
       "      <td>49.0</td>\n",
       "      <td>0</td>\n",
       "      <td>0</td>\n",
       "      <td>Yes</td>\n",
       "      <td>Private</td>\n",
       "      <td>Urban</td>\n",
       "      <td>171.23</td>\n",
       "      <td>34.4</td>\n",
       "      <td>smokes</td>\n",
       "      <td>1</td>\n",
       "    </tr>\n",
       "    <tr>\n",
       "      <th>3</th>\n",
       "      <td>Female</td>\n",
       "      <td>79.0</td>\n",
       "      <td>1</td>\n",
       "      <td>0</td>\n",
       "      <td>Yes</td>\n",
       "      <td>Self-employed</td>\n",
       "      <td>Rural</td>\n",
       "      <td>174.12</td>\n",
       "      <td>24.0</td>\n",
       "      <td>never smoked</td>\n",
       "      <td>1</td>\n",
       "    </tr>\n",
       "    <tr>\n",
       "      <th>4</th>\n",
       "      <td>Male</td>\n",
       "      <td>81.0</td>\n",
       "      <td>0</td>\n",
       "      <td>0</td>\n",
       "      <td>Yes</td>\n",
       "      <td>Private</td>\n",
       "      <td>Urban</td>\n",
       "      <td>186.21</td>\n",
       "      <td>29.0</td>\n",
       "      <td>formerly smoked</td>\n",
       "      <td>1</td>\n",
       "    </tr>\n",
       "  </tbody>\n",
       "</table>\n",
       "</div>"
      ],
      "text/plain": [
       "   gender   age  hypertension  heart_disease ever_married      work_type  \\\n",
       "0    Male  67.0             0              1          Yes        Private   \n",
       "1    Male  80.0             0              1          Yes        Private   \n",
       "2  Female  49.0             0              0          Yes        Private   \n",
       "3  Female  79.0             1              0          Yes  Self-employed   \n",
       "4    Male  81.0             0              0          Yes        Private   \n",
       "\n",
       "  Residence_type  avg_glucose_level   bmi   smoking_status  stroke  \n",
       "0          Urban             228.69  36.6  formerly smoked       1  \n",
       "1          Rural             105.92  32.5     never smoked       1  \n",
       "2          Urban             171.23  34.4           smokes       1  \n",
       "3          Rural             174.12  24.0     never smoked       1  \n",
       "4          Urban             186.21  29.0  formerly smoked       1  "
      ]
     },
     "execution_count": 2,
     "metadata": {},
     "output_type": "execute_result"
    }
   ],
   "source": [
    "df.head()"
   ]
  },
  {
   "cell_type": "code",
   "execution_count": 3,
   "id": "2544d210",
   "metadata": {
    "execution": {
     "iopub.execute_input": "2022-08-15T13:10:08.284547Z",
     "iopub.status.busy": "2022-08-15T13:10:08.284025Z",
     "iopub.status.idle": "2022-08-15T13:10:08.298821Z",
     "shell.execute_reply": "2022-08-15T13:10:08.297741Z"
    },
    "papermill": {
     "duration": 0.023144,
     "end_time": "2022-08-15T13:10:08.301371",
     "exception": false,
     "start_time": "2022-08-15T13:10:08.278227",
     "status": "completed"
    },
    "tags": []
   },
   "outputs": [],
   "source": [
    "y_train = df.pop(\"stroke\")\n",
    "y_eval = df_eval.pop(\"stroke\")"
   ]
  },
  {
   "cell_type": "code",
   "execution_count": 4,
   "id": "6a05b1eb",
   "metadata": {
    "execution": {
     "iopub.execute_input": "2022-08-15T13:10:08.312396Z",
     "iopub.status.busy": "2022-08-15T13:10:08.311629Z",
     "iopub.status.idle": "2022-08-15T13:10:08.352582Z",
     "shell.execute_reply": "2022-08-15T13:10:08.351236Z"
    },
    "papermill": {
     "duration": 0.050136,
     "end_time": "2022-08-15T13:10:08.355845",
     "exception": false,
     "start_time": "2022-08-15T13:10:08.305709",
     "status": "completed"
    },
    "tags": []
   },
   "outputs": [],
   "source": [
    "df.loc[df['gender']=='Male','gender']=1\n",
    "df.loc[df['gender']=='Female','gender']=0\n",
    "df.loc[df['ever_married']=='Yes','ever_married']=1\n",
    "df.loc[df['ever_married']=='No','ever_married']=0\n",
    "df.loc[df['work_type']=='Private','work_type']=0\n",
    "df.loc[df['work_type']=='Self-employed','work_type']=1\n",
    "df.loc[df['work_type']=='Govt_job','work_type']=2\n",
    "df.loc[df['work_type']=='children','work_type']=3\n",
    "df.loc[df['Residence_type']=='Urban','Residence_type']=1\n",
    "df.loc[df['Residence_type']=='Rural','Residence_type']=0\n",
    "df.loc[df['smoking_status']=='formerly smoked','smoking_status']=0\n",
    "df.loc[df['smoking_status']=='never smoked','smoking_status']=1\n",
    "df.loc[df['smoking_status']=='smokes','smoking_status']=2\n",
    "df.loc[df['smoking_status']=='Unknown','smoking_status']=3\n",
    "df_eval.loc[df_eval['gender']=='Male','gender']=1\n",
    "df_eval.loc[df_eval['gender']=='Female','gender']=0\n",
    "df_eval.loc[df_eval['ever_married']=='Yes','ever_married']=1\n",
    "df_eval.loc[df_eval['ever_married']=='No','ever_married']=0\n",
    "df_eval.loc[df_eval['work_type']=='Private','work_type']=0\n",
    "df_eval.loc[df_eval['work_type']=='Self-employed','work_type']=1\n",
    "df_eval.loc[df_eval['work_type']=='Govt_job','work_type']=2\n",
    "df_eval.loc[df_eval['work_type']=='children','work_type']=3\n",
    "df_eval.loc[df_eval['Residence_type']=='Urban','Residence_type']=1\n",
    "df_eval.loc[df_eval['Residence_type']=='Rural','Residence_type']=0\n",
    "df_eval.loc[df_eval['smoking_status']=='formerly smoked','smoking_status']=0\n",
    "df_eval.loc[df_eval['smoking_status']=='never smoked','smoking_status']=1\n",
    "df_eval.loc[df_eval['smoking_status']=='smokes','smoking_status']=2\n",
    "df_eval.loc[df_eval['smoking_status']=='Unknown','smoking_status']=3\n"
   ]
  },
  {
   "cell_type": "code",
   "execution_count": 5,
   "id": "d100c440",
   "metadata": {
    "execution": {
     "iopub.execute_input": "2022-08-15T13:10:08.366336Z",
     "iopub.status.busy": "2022-08-15T13:10:08.365874Z",
     "iopub.status.idle": "2022-08-15T13:10:08.375980Z",
     "shell.execute_reply": "2022-08-15T13:10:08.374516Z"
    },
    "papermill": {
     "duration": 0.018791,
     "end_time": "2022-08-15T13:10:08.378894",
     "exception": false,
     "start_time": "2022-08-15T13:10:08.360103",
     "status": "completed"
    },
    "tags": []
   },
   "outputs": [],
   "source": [
    "df['age'] = df['age']/100\n",
    "df['avg_glucose_level'] = df['avg_glucose_level']/300\n",
    "df['bmi'] = df['bmi']/50"
   ]
  },
  {
   "cell_type": "code",
   "execution_count": 6,
   "id": "5395e154",
   "metadata": {
    "execution": {
     "iopub.execute_input": "2022-08-15T13:10:08.390335Z",
     "iopub.status.busy": "2022-08-15T13:10:08.389098Z",
     "iopub.status.idle": "2022-08-15T13:10:08.413494Z",
     "shell.execute_reply": "2022-08-15T13:10:08.412285Z"
    },
    "papermill": {
     "duration": 0.033172,
     "end_time": "2022-08-15T13:10:08.416663",
     "exception": false,
     "start_time": "2022-08-15T13:10:08.383491",
     "status": "completed"
    },
    "tags": []
   },
   "outputs": [],
   "source": [
    "dfnew = df.to_numpy()\n",
    "dfevalnew = df_eval.to_numpy()\n",
    "ytrainnew = y_train.to_numpy() \n",
    "yevalnew = y_eval.to_numpy()\n",
    "X = dfnew.T\n",
    "X_eval = dfevalnew.T\n",
    "n_x = X.shape[0]\n",
    "m = X.shape[1]\n",
    "X=np.array(X,dtype=np.float64)\n",
    "X_eval=np.array(X_eval,dtype=np.float64)"
   ]
  },
  {
   "cell_type": "code",
   "execution_count": 7,
   "id": "41930a5c",
   "metadata": {
    "execution": {
     "iopub.execute_input": "2022-08-15T13:10:08.427649Z",
     "iopub.status.busy": "2022-08-15T13:10:08.427169Z",
     "iopub.status.idle": "2022-08-15T13:10:08.433493Z",
     "shell.execute_reply": "2022-08-15T13:10:08.432493Z"
    },
    "papermill": {
     "duration": 0.014724,
     "end_time": "2022-08-15T13:10:08.435638",
     "exception": false,
     "start_time": "2022-08-15T13:10:08.420914",
     "status": "completed"
    },
    "tags": []
   },
   "outputs": [],
   "source": [
    "W1 = np.random.randn(1,n_x)*0.01\n",
    "b1 = np.zeros((1,m))\n"
   ]
  },
  {
   "cell_type": "code",
   "execution_count": 8,
   "id": "d25fa5b5",
   "metadata": {
    "execution": {
     "iopub.execute_input": "2022-08-15T13:10:08.446494Z",
     "iopub.status.busy": "2022-08-15T13:10:08.445785Z",
     "iopub.status.idle": "2022-08-15T13:10:08.450556Z",
     "shell.execute_reply": "2022-08-15T13:10:08.449506Z"
    },
    "papermill": {
     "duration": 0.012977,
     "end_time": "2022-08-15T13:10:08.453066",
     "exception": false,
     "start_time": "2022-08-15T13:10:08.440089",
     "status": "completed"
    },
    "tags": []
   },
   "outputs": [],
   "source": [
    "def sigmoid(z):\n",
    "    return 1/(1+np.exp(-z))"
   ]
  },
  {
   "cell_type": "code",
   "execution_count": 9,
   "id": "53042028",
   "metadata": {
    "execution": {
     "iopub.execute_input": "2022-08-15T13:10:08.463750Z",
     "iopub.status.busy": "2022-08-15T13:10:08.463019Z",
     "iopub.status.idle": "2022-08-15T13:10:08.470620Z",
     "shell.execute_reply": "2022-08-15T13:10:08.469447Z"
    },
    "papermill": {
     "duration": 0.01628,
     "end_time": "2022-08-15T13:10:08.473542",
     "exception": false,
     "start_time": "2022-08-15T13:10:08.457262",
     "status": "completed"
    },
    "tags": []
   },
   "outputs": [],
   "source": [
    "def costfunc(X, y, W, b):\n",
    "    Z = np.dot(W,X) + b\n",
    "    a = sigmoid(Z);\n",
    "    cost = np.sum(-y*np.log(a) - (1-y)*np.log(1-a))/m \n",
    "    dZ = a-y\n",
    "    db = np.sum(dZ)/m\n",
    "    dW = np.dot(X, dZ.T)/m\n",
    "    return cost,dW,db"
   ]
  },
  {
   "cell_type": "code",
   "execution_count": 10,
   "id": "16f467d8",
   "metadata": {
    "execution": {
     "iopub.execute_input": "2022-08-15T13:10:08.485142Z",
     "iopub.status.busy": "2022-08-15T13:10:08.483809Z",
     "iopub.status.idle": "2022-08-15T13:10:08.501920Z",
     "shell.execute_reply": "2022-08-15T13:10:08.500256Z"
    },
    "papermill": {
     "duration": 0.028309,
     "end_time": "2022-08-15T13:10:08.506453",
     "exception": false,
     "start_time": "2022-08-15T13:10:08.478144",
     "status": "completed"
    },
    "tags": []
   },
   "outputs": [
    {
     "data": {
      "text/plain": [
       "(0.7052632072323546,\n",
       " array([[0.1894606 ],\n",
       "        [0.18666788],\n",
       "        [0.03574896],\n",
       "        [0.01872823],\n",
       "        [0.29073907],\n",
       "        [0.39191572],\n",
       "        [0.22988629],\n",
       "        [0.15711936],\n",
       "        [0.25891187],\n",
       "        [0.73969063]]),\n",
       " 0.45706339848001026)"
      ]
     },
     "execution_count": 10,
     "metadata": {},
     "output_type": "execute_result"
    }
   ],
   "source": [
    "costfunc(X, ytrainnew, W1, b1)"
   ]
  },
  {
   "cell_type": "code",
   "execution_count": null,
   "id": "7dac0dac",
   "metadata": {
    "papermill": {
     "duration": 0.010994,
     "end_time": "2022-08-15T13:10:08.527908",
     "exception": false,
     "start_time": "2022-08-15T13:10:08.516914",
     "status": "completed"
    },
    "tags": []
   },
   "outputs": [],
   "source": []
  }
 ],
 "metadata": {
  "kernelspec": {
   "display_name": "Python 3",
   "language": "python",
   "name": "python3"
  },
  "language_info": {
   "codemirror_mode": {
    "name": "ipython",
    "version": 3
   },
   "file_extension": ".py",
   "mimetype": "text/x-python",
   "name": "python",
   "nbconvert_exporter": "python",
   "pygments_lexer": "ipython3",
   "version": "3.7.12"
  },
  "papermill": {
   "default_parameters": {},
   "duration": 12.644739,
   "end_time": "2022-08-15T13:10:09.579510",
   "environment_variables": {},
   "exception": null,
   "input_path": "__notebook__.ipynb",
   "output_path": "__notebook__.ipynb",
   "parameters": {},
   "start_time": "2022-08-15T13:09:56.934771",
   "version": "2.3.4"
  }
 },
 "nbformat": 4,
 "nbformat_minor": 5
}
